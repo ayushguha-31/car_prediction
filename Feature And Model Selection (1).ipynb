{
 "cells": [
  {
   "cell_type": "code",
   "execution_count": 70,
   "id": "c885a41e",
   "metadata": {},
   "outputs": [],
   "source": [
    "import pandas as pd\n",
    "import numpy as np\n",
    "import matplotlib.pyplot as plt\n",
    "import seaborn as sns\n",
    "import warnings\n",
    "warnings.filterwarnings('ignore')\n",
    "pd.pandas.set_option('display.max_columns',None)"
   ]
  },
  {
   "cell_type": "code",
   "execution_count": 71,
   "id": "064fde6b",
   "metadata": {},
   "outputs": [],
   "source": [
    "df=pd.read_csv('cardekho_dataset.csv')"
   ]
  },
  {
   "cell_type": "code",
   "execution_count": 72,
   "id": "183c26ae",
   "metadata": {},
   "outputs": [
    {
     "data": {
      "text/plain": [
       "(15411, 14)"
      ]
     },
     "execution_count": 72,
     "metadata": {},
     "output_type": "execute_result"
    }
   ],
   "source": [
    "df.shape"
   ]
  },
  {
   "cell_type": "markdown",
   "id": "38712417",
   "metadata": {},
   "source": [
    "# Data Cleaning"
   ]
  },
  {
   "cell_type": "raw",
   "id": "fd79cf02",
   "metadata": {},
   "source": [
    "Handling Missing Values\n",
    "Handling Duuplicates\n",
    "Check Data type"
   ]
  },
  {
   "cell_type": "code",
   "execution_count": 73,
   "id": "82241c4a",
   "metadata": {},
   "outputs": [
    {
     "data": {
      "text/plain": [
       "Unnamed: 0           0\n",
       "car_name             0\n",
       "brand                0\n",
       "model                0\n",
       "vehicle_age          0\n",
       "km_driven            0\n",
       "seller_type          0\n",
       "fuel_type            0\n",
       "transmission_type    0\n",
       "mileage              0\n",
       "engine               0\n",
       "max_power            0\n",
       "seats                0\n",
       "selling_price        0\n",
       "dtype: int64"
      ]
     },
     "execution_count": 73,
     "metadata": {},
     "output_type": "execute_result"
    }
   ],
   "source": [
    "##check features with null values\n",
    "df.isnull().sum()"
   ]
  },
  {
   "cell_type": "raw",
   "id": "0cc0a13a",
   "metadata": {},
   "source": [
    "Report\n",
    "There is no null values in the dataset"
   ]
  },
  {
   "cell_type": "code",
   "execution_count": 74,
   "id": "6635ed07",
   "metadata": {},
   "outputs": [
    {
     "data": {
      "text/plain": [
       "0"
      ]
     },
     "execution_count": 74,
     "metadata": {},
     "output_type": "execute_result"
    }
   ],
   "source": [
    "##Handling Duplicates\n",
    "df.duplicated().sum()"
   ]
  },
  {
   "cell_type": "raw",
   "id": "0c67877c",
   "metadata": {},
   "source": [
    "Report \n",
    "There are no duplicates in the dataset"
   ]
  },
  {
   "cell_type": "markdown",
   "id": "c43e2e27",
   "metadata": {},
   "source": [
    "# Feature Engineering"
   ]
  },
  {
   "cell_type": "code",
   "execution_count": 75,
   "id": "c8cb048d",
   "metadata": {},
   "outputs": [
    {
     "data": {
      "text/html": [
       "<div>\n",
       "<style scoped>\n",
       "    .dataframe tbody tr th:only-of-type {\n",
       "        vertical-align: middle;\n",
       "    }\n",
       "\n",
       "    .dataframe tbody tr th {\n",
       "        vertical-align: top;\n",
       "    }\n",
       "\n",
       "    .dataframe thead th {\n",
       "        text-align: right;\n",
       "    }\n",
       "</style>\n",
       "<table border=\"1\" class=\"dataframe\">\n",
       "  <thead>\n",
       "    <tr style=\"text-align: right;\">\n",
       "      <th></th>\n",
       "      <th>Unnamed: 0</th>\n",
       "      <th>car_name</th>\n",
       "      <th>brand</th>\n",
       "      <th>model</th>\n",
       "      <th>vehicle_age</th>\n",
       "      <th>km_driven</th>\n",
       "      <th>seller_type</th>\n",
       "      <th>fuel_type</th>\n",
       "      <th>transmission_type</th>\n",
       "      <th>mileage</th>\n",
       "      <th>engine</th>\n",
       "      <th>max_power</th>\n",
       "      <th>seats</th>\n",
       "      <th>selling_price</th>\n",
       "    </tr>\n",
       "  </thead>\n",
       "  <tbody>\n",
       "    <tr>\n",
       "      <th>0</th>\n",
       "      <td>0</td>\n",
       "      <td>Maruti Alto</td>\n",
       "      <td>Maruti</td>\n",
       "      <td>Alto</td>\n",
       "      <td>9</td>\n",
       "      <td>120000</td>\n",
       "      <td>Individual</td>\n",
       "      <td>Petrol</td>\n",
       "      <td>Manual</td>\n",
       "      <td>19.70</td>\n",
       "      <td>796</td>\n",
       "      <td>46.30</td>\n",
       "      <td>5</td>\n",
       "      <td>120000</td>\n",
       "    </tr>\n",
       "    <tr>\n",
       "      <th>3</th>\n",
       "      <td>3</td>\n",
       "      <td>Maruti Alto</td>\n",
       "      <td>Maruti</td>\n",
       "      <td>Alto</td>\n",
       "      <td>9</td>\n",
       "      <td>37000</td>\n",
       "      <td>Individual</td>\n",
       "      <td>Petrol</td>\n",
       "      <td>Manual</td>\n",
       "      <td>20.92</td>\n",
       "      <td>998</td>\n",
       "      <td>67.10</td>\n",
       "      <td>5</td>\n",
       "      <td>226000</td>\n",
       "    </tr>\n",
       "    <tr>\n",
       "      <th>5</th>\n",
       "      <td>5</td>\n",
       "      <td>Maruti Wagon R</td>\n",
       "      <td>Maruti</td>\n",
       "      <td>Wagon R</td>\n",
       "      <td>8</td>\n",
       "      <td>35000</td>\n",
       "      <td>Individual</td>\n",
       "      <td>Petrol</td>\n",
       "      <td>Manual</td>\n",
       "      <td>18.90</td>\n",
       "      <td>998</td>\n",
       "      <td>67.10</td>\n",
       "      <td>5</td>\n",
       "      <td>350000</td>\n",
       "    </tr>\n",
       "    <tr>\n",
       "      <th>7</th>\n",
       "      <td>7</td>\n",
       "      <td>Maruti Wagon R</td>\n",
       "      <td>Maruti</td>\n",
       "      <td>Wagon R</td>\n",
       "      <td>3</td>\n",
       "      <td>17512</td>\n",
       "      <td>Dealer</td>\n",
       "      <td>Petrol</td>\n",
       "      <td>Manual</td>\n",
       "      <td>20.51</td>\n",
       "      <td>998</td>\n",
       "      <td>67.04</td>\n",
       "      <td>5</td>\n",
       "      <td>410000</td>\n",
       "    </tr>\n",
       "    <tr>\n",
       "      <th>9</th>\n",
       "      <td>12</td>\n",
       "      <td>Maruti Swift</td>\n",
       "      <td>Maruti</td>\n",
       "      <td>Swift</td>\n",
       "      <td>4</td>\n",
       "      <td>28321</td>\n",
       "      <td>Dealer</td>\n",
       "      <td>Petrol</td>\n",
       "      <td>Manual</td>\n",
       "      <td>16.60</td>\n",
       "      <td>1197</td>\n",
       "      <td>85.00</td>\n",
       "      <td>5</td>\n",
       "      <td>511000</td>\n",
       "    </tr>\n",
       "    <tr>\n",
       "      <th>...</th>\n",
       "      <td>...</td>\n",
       "      <td>...</td>\n",
       "      <td>...</td>\n",
       "      <td>...</td>\n",
       "      <td>...</td>\n",
       "      <td>...</td>\n",
       "      <td>...</td>\n",
       "      <td>...</td>\n",
       "      <td>...</td>\n",
       "      <td>...</td>\n",
       "      <td>...</td>\n",
       "      <td>...</td>\n",
       "      <td>...</td>\n",
       "      <td>...</td>\n",
       "    </tr>\n",
       "    <tr>\n",
       "      <th>15398</th>\n",
       "      <td>19528</td>\n",
       "      <td>Maruti Alto</td>\n",
       "      <td>Maruti</td>\n",
       "      <td>Alto</td>\n",
       "      <td>7</td>\n",
       "      <td>44000</td>\n",
       "      <td>Dealer</td>\n",
       "      <td>CNG</td>\n",
       "      <td>Manual</td>\n",
       "      <td>30.46</td>\n",
       "      <td>796</td>\n",
       "      <td>47.30</td>\n",
       "      <td>5</td>\n",
       "      <td>275000</td>\n",
       "    </tr>\n",
       "    <tr>\n",
       "      <th>15400</th>\n",
       "      <td>19530</td>\n",
       "      <td>Maruti Alto</td>\n",
       "      <td>Maruti</td>\n",
       "      <td>Alto</td>\n",
       "      <td>4</td>\n",
       "      <td>12706</td>\n",
       "      <td>Dealer</td>\n",
       "      <td>Petrol</td>\n",
       "      <td>Manual</td>\n",
       "      <td>24.70</td>\n",
       "      <td>796</td>\n",
       "      <td>47.30</td>\n",
       "      <td>5</td>\n",
       "      <td>313000</td>\n",
       "    </tr>\n",
       "    <tr>\n",
       "      <th>15401</th>\n",
       "      <td>19531</td>\n",
       "      <td>Maruti Swift</td>\n",
       "      <td>Maruti</td>\n",
       "      <td>Swift</td>\n",
       "      <td>3</td>\n",
       "      <td>25000</td>\n",
       "      <td>Individual</td>\n",
       "      <td>Petrol</td>\n",
       "      <td>Automatic</td>\n",
       "      <td>22.00</td>\n",
       "      <td>1197</td>\n",
       "      <td>81.80</td>\n",
       "      <td>5</td>\n",
       "      <td>590000</td>\n",
       "    </tr>\n",
       "    <tr>\n",
       "      <th>15404</th>\n",
       "      <td>19535</td>\n",
       "      <td>Maruti Ertiga</td>\n",
       "      <td>Maruti</td>\n",
       "      <td>Ertiga</td>\n",
       "      <td>5</td>\n",
       "      <td>56829</td>\n",
       "      <td>Dealer</td>\n",
       "      <td>Diesel</td>\n",
       "      <td>Manual</td>\n",
       "      <td>20.77</td>\n",
       "      <td>1248</td>\n",
       "      <td>88.80</td>\n",
       "      <td>7</td>\n",
       "      <td>895000</td>\n",
       "    </tr>\n",
       "    <tr>\n",
       "      <th>15407</th>\n",
       "      <td>19540</td>\n",
       "      <td>Maruti Ertiga</td>\n",
       "      <td>Maruti</td>\n",
       "      <td>Ertiga</td>\n",
       "      <td>2</td>\n",
       "      <td>18000</td>\n",
       "      <td>Dealer</td>\n",
       "      <td>Petrol</td>\n",
       "      <td>Manual</td>\n",
       "      <td>17.50</td>\n",
       "      <td>1373</td>\n",
       "      <td>91.10</td>\n",
       "      <td>7</td>\n",
       "      <td>925000</td>\n",
       "    </tr>\n",
       "  </tbody>\n",
       "</table>\n",
       "<p>4992 rows × 14 columns</p>\n",
       "</div>"
      ],
      "text/plain": [
       "       Unnamed: 0        car_name   brand    model  vehicle_age  km_driven  \\\n",
       "0               0     Maruti Alto  Maruti     Alto            9     120000   \n",
       "3               3     Maruti Alto  Maruti     Alto            9      37000   \n",
       "5               5  Maruti Wagon R  Maruti  Wagon R            8      35000   \n",
       "7               7  Maruti Wagon R  Maruti  Wagon R            3      17512   \n",
       "9              12    Maruti Swift  Maruti    Swift            4      28321   \n",
       "...           ...             ...     ...      ...          ...        ...   \n",
       "15398       19528     Maruti Alto  Maruti     Alto            7      44000   \n",
       "15400       19530     Maruti Alto  Maruti     Alto            4      12706   \n",
       "15401       19531    Maruti Swift  Maruti    Swift            3      25000   \n",
       "15404       19535   Maruti Ertiga  Maruti   Ertiga            5      56829   \n",
       "15407       19540   Maruti Ertiga  Maruti   Ertiga            2      18000   \n",
       "\n",
       "      seller_type fuel_type transmission_type  mileage  engine  max_power  \\\n",
       "0      Individual    Petrol            Manual    19.70     796      46.30   \n",
       "3      Individual    Petrol            Manual    20.92     998      67.10   \n",
       "5      Individual    Petrol            Manual    18.90     998      67.10   \n",
       "7          Dealer    Petrol            Manual    20.51     998      67.04   \n",
       "9          Dealer    Petrol            Manual    16.60    1197      85.00   \n",
       "...           ...       ...               ...      ...     ...        ...   \n",
       "15398      Dealer       CNG            Manual    30.46     796      47.30   \n",
       "15400      Dealer    Petrol            Manual    24.70     796      47.30   \n",
       "15401  Individual    Petrol         Automatic    22.00    1197      81.80   \n",
       "15404      Dealer    Diesel            Manual    20.77    1248      88.80   \n",
       "15407      Dealer    Petrol            Manual    17.50    1373      91.10   \n",
       "\n",
       "       seats  selling_price  \n",
       "0          5         120000  \n",
       "3          5         226000  \n",
       "5          5         350000  \n",
       "7          5         410000  \n",
       "9          5         511000  \n",
       "...      ...            ...  \n",
       "15398      5         275000  \n",
       "15400      5         313000  \n",
       "15401      5         590000  \n",
       "15404      7         895000  \n",
       "15407      7         925000  \n",
       "\n",
       "[4992 rows x 14 columns]"
      ]
     },
     "execution_count": 75,
     "metadata": {},
     "output_type": "execute_result"
    }
   ],
   "source": [
    "df.loc[df['brand']=='Maruti']"
   ]
  },
  {
   "cell_type": "raw",
   "id": "281a0389",
   "metadata": {},
   "source": [
    "Brand and model column can be dropped as the information us already available in the car_name"
   ]
  },
  {
   "cell_type": "code",
   "execution_count": 76,
   "id": "4c27651d",
   "metadata": {},
   "outputs": [],
   "source": [
    "df.drop(['brand','model','Unnamed: 0'],axis=1,inplace=True)"
   ]
  },
  {
   "cell_type": "code",
   "execution_count": 77,
   "id": "a224837a",
   "metadata": {},
   "outputs": [
    {
     "data": {
      "text/html": [
       "<div>\n",
       "<style scoped>\n",
       "    .dataframe tbody tr th:only-of-type {\n",
       "        vertical-align: middle;\n",
       "    }\n",
       "\n",
       "    .dataframe tbody tr th {\n",
       "        vertical-align: top;\n",
       "    }\n",
       "\n",
       "    .dataframe thead th {\n",
       "        text-align: right;\n",
       "    }\n",
       "</style>\n",
       "<table border=\"1\" class=\"dataframe\">\n",
       "  <thead>\n",
       "    <tr style=\"text-align: right;\">\n",
       "      <th></th>\n",
       "      <th>car_name</th>\n",
       "      <th>vehicle_age</th>\n",
       "      <th>km_driven</th>\n",
       "      <th>seller_type</th>\n",
       "      <th>fuel_type</th>\n",
       "      <th>transmission_type</th>\n",
       "      <th>mileage</th>\n",
       "      <th>engine</th>\n",
       "      <th>max_power</th>\n",
       "      <th>seats</th>\n",
       "      <th>selling_price</th>\n",
       "    </tr>\n",
       "  </thead>\n",
       "  <tbody>\n",
       "    <tr>\n",
       "      <th>0</th>\n",
       "      <td>Maruti Alto</td>\n",
       "      <td>9</td>\n",
       "      <td>120000</td>\n",
       "      <td>Individual</td>\n",
       "      <td>Petrol</td>\n",
       "      <td>Manual</td>\n",
       "      <td>19.70</td>\n",
       "      <td>796</td>\n",
       "      <td>46.30</td>\n",
       "      <td>5</td>\n",
       "      <td>120000</td>\n",
       "    </tr>\n",
       "    <tr>\n",
       "      <th>1</th>\n",
       "      <td>Hyundai Grand</td>\n",
       "      <td>5</td>\n",
       "      <td>20000</td>\n",
       "      <td>Individual</td>\n",
       "      <td>Petrol</td>\n",
       "      <td>Manual</td>\n",
       "      <td>18.90</td>\n",
       "      <td>1197</td>\n",
       "      <td>82.00</td>\n",
       "      <td>5</td>\n",
       "      <td>550000</td>\n",
       "    </tr>\n",
       "    <tr>\n",
       "      <th>2</th>\n",
       "      <td>Hyundai i20</td>\n",
       "      <td>11</td>\n",
       "      <td>60000</td>\n",
       "      <td>Individual</td>\n",
       "      <td>Petrol</td>\n",
       "      <td>Manual</td>\n",
       "      <td>17.00</td>\n",
       "      <td>1197</td>\n",
       "      <td>80.00</td>\n",
       "      <td>5</td>\n",
       "      <td>215000</td>\n",
       "    </tr>\n",
       "    <tr>\n",
       "      <th>3</th>\n",
       "      <td>Maruti Alto</td>\n",
       "      <td>9</td>\n",
       "      <td>37000</td>\n",
       "      <td>Individual</td>\n",
       "      <td>Petrol</td>\n",
       "      <td>Manual</td>\n",
       "      <td>20.92</td>\n",
       "      <td>998</td>\n",
       "      <td>67.10</td>\n",
       "      <td>5</td>\n",
       "      <td>226000</td>\n",
       "    </tr>\n",
       "    <tr>\n",
       "      <th>4</th>\n",
       "      <td>Ford Ecosport</td>\n",
       "      <td>6</td>\n",
       "      <td>30000</td>\n",
       "      <td>Dealer</td>\n",
       "      <td>Diesel</td>\n",
       "      <td>Manual</td>\n",
       "      <td>22.77</td>\n",
       "      <td>1498</td>\n",
       "      <td>98.59</td>\n",
       "      <td>5</td>\n",
       "      <td>570000</td>\n",
       "    </tr>\n",
       "    <tr>\n",
       "      <th>...</th>\n",
       "      <td>...</td>\n",
       "      <td>...</td>\n",
       "      <td>...</td>\n",
       "      <td>...</td>\n",
       "      <td>...</td>\n",
       "      <td>...</td>\n",
       "      <td>...</td>\n",
       "      <td>...</td>\n",
       "      <td>...</td>\n",
       "      <td>...</td>\n",
       "      <td>...</td>\n",
       "    </tr>\n",
       "    <tr>\n",
       "      <th>15406</th>\n",
       "      <td>Hyundai i10</td>\n",
       "      <td>9</td>\n",
       "      <td>10723</td>\n",
       "      <td>Dealer</td>\n",
       "      <td>Petrol</td>\n",
       "      <td>Manual</td>\n",
       "      <td>19.81</td>\n",
       "      <td>1086</td>\n",
       "      <td>68.05</td>\n",
       "      <td>5</td>\n",
       "      <td>250000</td>\n",
       "    </tr>\n",
       "    <tr>\n",
       "      <th>15407</th>\n",
       "      <td>Maruti Ertiga</td>\n",
       "      <td>2</td>\n",
       "      <td>18000</td>\n",
       "      <td>Dealer</td>\n",
       "      <td>Petrol</td>\n",
       "      <td>Manual</td>\n",
       "      <td>17.50</td>\n",
       "      <td>1373</td>\n",
       "      <td>91.10</td>\n",
       "      <td>7</td>\n",
       "      <td>925000</td>\n",
       "    </tr>\n",
       "    <tr>\n",
       "      <th>15408</th>\n",
       "      <td>Skoda Rapid</td>\n",
       "      <td>6</td>\n",
       "      <td>67000</td>\n",
       "      <td>Dealer</td>\n",
       "      <td>Diesel</td>\n",
       "      <td>Manual</td>\n",
       "      <td>21.14</td>\n",
       "      <td>1498</td>\n",
       "      <td>103.52</td>\n",
       "      <td>5</td>\n",
       "      <td>425000</td>\n",
       "    </tr>\n",
       "    <tr>\n",
       "      <th>15409</th>\n",
       "      <td>Mahindra XUV500</td>\n",
       "      <td>5</td>\n",
       "      <td>3800000</td>\n",
       "      <td>Dealer</td>\n",
       "      <td>Diesel</td>\n",
       "      <td>Manual</td>\n",
       "      <td>16.00</td>\n",
       "      <td>2179</td>\n",
       "      <td>140.00</td>\n",
       "      <td>7</td>\n",
       "      <td>1225000</td>\n",
       "    </tr>\n",
       "    <tr>\n",
       "      <th>15410</th>\n",
       "      <td>Honda City</td>\n",
       "      <td>2</td>\n",
       "      <td>13000</td>\n",
       "      <td>Dealer</td>\n",
       "      <td>Petrol</td>\n",
       "      <td>Automatic</td>\n",
       "      <td>18.00</td>\n",
       "      <td>1497</td>\n",
       "      <td>117.60</td>\n",
       "      <td>5</td>\n",
       "      <td>1200000</td>\n",
       "    </tr>\n",
       "  </tbody>\n",
       "</table>\n",
       "<p>15411 rows × 11 columns</p>\n",
       "</div>"
      ],
      "text/plain": [
       "              car_name  vehicle_age  km_driven seller_type fuel_type  \\\n",
       "0          Maruti Alto            9     120000  Individual    Petrol   \n",
       "1        Hyundai Grand            5      20000  Individual    Petrol   \n",
       "2          Hyundai i20           11      60000  Individual    Petrol   \n",
       "3          Maruti Alto            9      37000  Individual    Petrol   \n",
       "4        Ford Ecosport            6      30000      Dealer    Diesel   \n",
       "...                ...          ...        ...         ...       ...   \n",
       "15406      Hyundai i10            9      10723      Dealer    Petrol   \n",
       "15407    Maruti Ertiga            2      18000      Dealer    Petrol   \n",
       "15408      Skoda Rapid            6      67000      Dealer    Diesel   \n",
       "15409  Mahindra XUV500            5    3800000      Dealer    Diesel   \n",
       "15410       Honda City            2      13000      Dealer    Petrol   \n",
       "\n",
       "      transmission_type  mileage  engine  max_power  seats  selling_price  \n",
       "0                Manual    19.70     796      46.30      5         120000  \n",
       "1                Manual    18.90    1197      82.00      5         550000  \n",
       "2                Manual    17.00    1197      80.00      5         215000  \n",
       "3                Manual    20.92     998      67.10      5         226000  \n",
       "4                Manual    22.77    1498      98.59      5         570000  \n",
       "...                 ...      ...     ...        ...    ...            ...  \n",
       "15406            Manual    19.81    1086      68.05      5         250000  \n",
       "15407            Manual    17.50    1373      91.10      7         925000  \n",
       "15408            Manual    21.14    1498     103.52      5         425000  \n",
       "15409            Manual    16.00    2179     140.00      7        1225000  \n",
       "15410         Automatic    18.00    1497     117.60      5        1200000  \n",
       "\n",
       "[15411 rows x 11 columns]"
      ]
     },
     "execution_count": 77,
     "metadata": {},
     "output_type": "execute_result"
    }
   ],
   "source": [
    "df"
   ]
  },
  {
   "cell_type": "code",
   "execution_count": 78,
   "id": "848e48d1",
   "metadata": {},
   "outputs": [
    {
     "name": "stdout",
     "output_type": "stream",
     "text": [
      "Num of Numerical Features : 7\n"
     ]
    }
   ],
   "source": [
    "num_features = [feature for feature in df.columns if df[feature].dtype != 'O']\n",
    "print('Num of Numerical Features :', len(num_features))"
   ]
  },
  {
   "cell_type": "code",
   "execution_count": 79,
   "id": "e498ed37",
   "metadata": {},
   "outputs": [
    {
     "name": "stdout",
     "output_type": "stream",
     "text": [
      "Num of Categorical Features : 4\n"
     ]
    }
   ],
   "source": [
    "cat_features = [feature for feature in df.columns if df[feature].dtype == 'O']\n",
    "print('Num of Categorical Features :', len(cat_features))"
   ]
  },
  {
   "cell_type": "code",
   "execution_count": 80,
   "id": "3452771c",
   "metadata": {},
   "outputs": [
    {
     "name": "stdout",
     "output_type": "stream",
     "text": [
      "Num of Discrete Features : 2\n"
     ]
    }
   ],
   "source": [
    "discrete_features=[feature for feature in num_features if len(df[feature].unique())<=25]\n",
    "print('Num of Discrete Features :',len(discrete_features))"
   ]
  },
  {
   "cell_type": "code",
   "execution_count": 81,
   "id": "2688e5a0",
   "metadata": {},
   "outputs": [
    {
     "name": "stdout",
     "output_type": "stream",
     "text": [
      "Num of Continuous Features : 5\n"
     ]
    }
   ],
   "source": [
    "\n",
    "continuous_features=[feature for feature in num_features if feature not in discrete_features]\n",
    "print('Num of Continuous Features :',len(continuous_features))"
   ]
  },
  {
   "cell_type": "markdown",
   "id": "32cc7a18",
   "metadata": {},
   "source": [
    "# Multicollinearity Check"
   ]
  },
  {
   "cell_type": "markdown",
   "id": "c4e03608",
   "metadata": {},
   "source": [
    "Correlation Heatmap"
   ]
  },
  {
   "cell_type": "code",
   "execution_count": 82,
   "id": "53f54dad",
   "metadata": {},
   "outputs": [
    {
     "data": {
      "text/html": [
       "<div>\n",
       "<style scoped>\n",
       "    .dataframe tbody tr th:only-of-type {\n",
       "        vertical-align: middle;\n",
       "    }\n",
       "\n",
       "    .dataframe tbody tr th {\n",
       "        vertical-align: top;\n",
       "    }\n",
       "\n",
       "    .dataframe thead th {\n",
       "        text-align: right;\n",
       "    }\n",
       "</style>\n",
       "<table border=\"1\" class=\"dataframe\">\n",
       "  <thead>\n",
       "    <tr style=\"text-align: right;\">\n",
       "      <th></th>\n",
       "      <th>vehicle_age</th>\n",
       "      <th>km_driven</th>\n",
       "      <th>mileage</th>\n",
       "      <th>engine</th>\n",
       "      <th>max_power</th>\n",
       "      <th>seats</th>\n",
       "      <th>selling_price</th>\n",
       "    </tr>\n",
       "  </thead>\n",
       "  <tbody>\n",
       "    <tr>\n",
       "      <th>vehicle_age</th>\n",
       "      <td>1.000000</td>\n",
       "      <td>0.333891</td>\n",
       "      <td>-0.257394</td>\n",
       "      <td>0.098965</td>\n",
       "      <td>0.005208</td>\n",
       "      <td>0.030791</td>\n",
       "      <td>-0.241851</td>\n",
       "    </tr>\n",
       "    <tr>\n",
       "      <th>km_driven</th>\n",
       "      <td>0.333891</td>\n",
       "      <td>1.000000</td>\n",
       "      <td>-0.105239</td>\n",
       "      <td>0.192885</td>\n",
       "      <td>0.044421</td>\n",
       "      <td>0.192830</td>\n",
       "      <td>-0.080030</td>\n",
       "    </tr>\n",
       "    <tr>\n",
       "      <th>mileage</th>\n",
       "      <td>-0.257394</td>\n",
       "      <td>-0.105239</td>\n",
       "      <td>1.000000</td>\n",
       "      <td>-0.632987</td>\n",
       "      <td>-0.533128</td>\n",
       "      <td>-0.440280</td>\n",
       "      <td>-0.305549</td>\n",
       "    </tr>\n",
       "    <tr>\n",
       "      <th>engine</th>\n",
       "      <td>0.098965</td>\n",
       "      <td>0.192885</td>\n",
       "      <td>-0.632987</td>\n",
       "      <td>1.000000</td>\n",
       "      <td>0.807368</td>\n",
       "      <td>0.551236</td>\n",
       "      <td>0.585844</td>\n",
       "    </tr>\n",
       "    <tr>\n",
       "      <th>max_power</th>\n",
       "      <td>0.005208</td>\n",
       "      <td>0.044421</td>\n",
       "      <td>-0.533128</td>\n",
       "      <td>0.807368</td>\n",
       "      <td>1.000000</td>\n",
       "      <td>0.172257</td>\n",
       "      <td>0.750236</td>\n",
       "    </tr>\n",
       "    <tr>\n",
       "      <th>seats</th>\n",
       "      <td>0.030791</td>\n",
       "      <td>0.192830</td>\n",
       "      <td>-0.440280</td>\n",
       "      <td>0.551236</td>\n",
       "      <td>0.172257</td>\n",
       "      <td>1.000000</td>\n",
       "      <td>0.115033</td>\n",
       "    </tr>\n",
       "    <tr>\n",
       "      <th>selling_price</th>\n",
       "      <td>-0.241851</td>\n",
       "      <td>-0.080030</td>\n",
       "      <td>-0.305549</td>\n",
       "      <td>0.585844</td>\n",
       "      <td>0.750236</td>\n",
       "      <td>0.115033</td>\n",
       "      <td>1.000000</td>\n",
       "    </tr>\n",
       "  </tbody>\n",
       "</table>\n",
       "</div>"
      ],
      "text/plain": [
       "               vehicle_age  km_driven   mileage    engine  max_power  \\\n",
       "vehicle_age       1.000000   0.333891 -0.257394  0.098965   0.005208   \n",
       "km_driven         0.333891   1.000000 -0.105239  0.192885   0.044421   \n",
       "mileage          -0.257394  -0.105239  1.000000 -0.632987  -0.533128   \n",
       "engine            0.098965   0.192885 -0.632987  1.000000   0.807368   \n",
       "max_power         0.005208   0.044421 -0.533128  0.807368   1.000000   \n",
       "seats             0.030791   0.192830 -0.440280  0.551236   0.172257   \n",
       "selling_price    -0.241851  -0.080030 -0.305549  0.585844   0.750236   \n",
       "\n",
       "                  seats  selling_price  \n",
       "vehicle_age    0.030791      -0.241851  \n",
       "km_driven      0.192830      -0.080030  \n",
       "mileage       -0.440280      -0.305549  \n",
       "engine         0.551236       0.585844  \n",
       "max_power      0.172257       0.750236  \n",
       "seats          1.000000       0.115033  \n",
       "selling_price  0.115033       1.000000  "
      ]
     },
     "execution_count": 82,
     "metadata": {},
     "output_type": "execute_result"
    }
   ],
   "source": [
    "df.corr(numeric_only=True)"
   ]
  },
  {
   "cell_type": "raw",
   "id": "b13d31f2",
   "metadata": {},
   "source": [
    "Report \n",
    "Max Power and Engine cc are highly correlated\n",
    "We can check VIF to remove any highly correlated independent features"
   ]
  },
  {
   "cell_type": "markdown",
   "id": "247d78eb",
   "metadata": {},
   "source": [
    "# Variance Inflation Factor (VIF)\n",
    "Multicollinearity occurs when there are two or more independent variables in a multiple regression model, which have a high correlation among themselves. When some features are highly correlated.\n",
    "Multicollinearity can be detected using various techniques, one such technique being the Variance Inflation Factor(VIF)."
   ]
  },
  {
   "cell_type": "code",
   "execution_count": 83,
   "id": "5bbfeaf4",
   "metadata": {},
   "outputs": [
    {
     "name": "stdout",
     "output_type": "stream",
     "text": [
      "Variance inflation factor of vehicle_age column is 1.34 \n",
      "\n",
      "Variance inflation factor of km_driven column is 1.24 \n",
      "\n",
      "Variance inflation factor of mileage column is 1.54 \n",
      "\n",
      "Variance inflation factor of engine column is 2.41 \n",
      "\n",
      "Variance inflation factor of max_power column is 3.13 \n",
      "\n",
      "Variance inflation factor of seats column is 1.77 \n",
      "\n"
     ]
    }
   ],
   "source": [
    "import statsmodels.api as sm\n",
    "num_features=df.select_dtypes(exclude='object').columns\n",
    "for i in range(0,len(num_features)-1):\n",
    "    x=df.loc[:,df.columns==num_features[i]]\n",
    "    y=df.selling_price\n",
    "    model=sm.OLS(x,y)\n",
    "    results=model.fit()\n",
    "    rsq=results.rsquared\n",
    "    vif=round(1/(1-rsq),2)\n",
    "    print('Variance inflation factor of {} column is {} \\n'.format(num_features[i],vif))"
   ]
  },
  {
   "cell_type": "raw",
   "id": "198a1951",
   "metadata": {},
   "source": [
    "” VIF determines the strength of the correlation between the independent variables. It is predicted by taking a variable and regressing it against every other variable “"
   ]
  },
  {
   "cell_type": "raw",
   "id": "d4f20703",
   "metadata": {},
   "source": [
    "This Dataset have MultiCollinearity in max_power column but not so much\n",
    "\n",
    "Max Power and Engine are correlated but we can consider these two features because they hold important information for a vechicle."
   ]
  },
  {
   "cell_type": "markdown",
   "id": "64dcd5db",
   "metadata": {},
   "source": [
    "# Check Outlier and Capping it"
   ]
  },
  {
   "cell_type": "raw",
   "id": "f846f1f3",
   "metadata": {},
   "source": [
    "Why outliers?\n",
    "\n",
    "Data Entry error : Human error.\n",
    "Measurement error: Instrument error.\n",
    "Natural error: it will be Real life data.\n",
    "Intentional error: People give wrong inputs"
   ]
  },
  {
   "cell_type": "raw",
   "id": "4c55c240",
   "metadata": {},
   "source": [
    "Impact of Outliers ?\n",
    "\n",
    "Ouliers can very high impact on few Machine learning models.\n",
    "Can Cause bias in the output."
   ]
  },
  {
   "cell_type": "raw",
   "id": "3f0331ce",
   "metadata": {},
   "source": [
    "Why IQR For Outlier Handling?\n",
    "\n",
    "For Skewed distributions: Use Inter-Quartile Range (IQR) proximity rule.\n",
    "\n",
    "As some columns are skewed we go with IQR method for outlier treatment\n",
    "\n",
    "The data points which fall below Q1 – 1.5 IQR or above Q3 + 1.5 IQR are outliers.\n",
    "\n",
    "where Q1 and Q3 are the 25th and 75th percentile of the dataset respectively, and IQR represents the inter-quartile range and given by Q3 – Q1."
   ]
  },
  {
   "cell_type": "code",
   "execution_count": 84,
   "id": "dac7bfb8",
   "metadata": {},
   "outputs": [
    {
     "data": {
      "text/plain": [
       "Index(['car_name', 'vehicle_age', 'km_driven', 'seller_type', 'fuel_type',\n",
       "       'transmission_type', 'mileage', 'engine', 'max_power', 'seats',\n",
       "       'selling_price'],\n",
       "      dtype='object')"
      ]
     },
     "execution_count": 84,
     "metadata": {},
     "output_type": "execute_result"
    }
   ],
   "source": [
    "df.columns"
   ]
  },
  {
   "cell_type": "code",
   "execution_count": 85,
   "id": "38e4bc0d",
   "metadata": {},
   "outputs": [
    {
     "data": {
      "text/plain": [
       "<Axes: ylabel='km_driven'>"
      ]
     },
     "execution_count": 85,
     "metadata": {},
     "output_type": "execute_result"
    },
    {
     "data": {
      "image/png": "[encoded data removed]",
      "text/plain": [
       "<Figure size 640x480 with 1 Axes>"
      ]
     },
     "metadata": {},
     "output_type": "display_data"
    }
   ],
   "source": [
    "sns.boxplot(df['km_driven'])"
   ]
  },
  {
   "cell_type": "code",
   "execution_count": 86,
   "id": "01d9192d",
   "metadata": {},
   "outputs": [
    {
     "data": {
      "text/plain": [
       "<Axes: ylabel='mileage'>"
      ]
     },
     "execution_count": 86,
     "metadata": {},
     "output_type": "execute_result"
    },
    {
     "data": {
      "image/png": "[encoded data removed]",
      "text/plain": [
       "<Figure size 640x480 with 1 Axes>"
      ]
     },
     "metadata": {},
     "output_type": "display_data"
    }
   ],
   "source": [
    "sns.boxplot(df['mileage'])"
   ]
  },
  {
   "cell_type": "code",
   "execution_count": 87,
   "id": "c0752e32",
   "metadata": {},
   "outputs": [
    {
     "data": {
      "text/plain": [
       "<Axes: ylabel='engine'>"
      ]
     },
     "execution_count": 87,
     "metadata": {},
     "output_type": "execute_result"
    },
    {
     "data": {
      "image/png": "[encoded data removed]",
      "text/plain": [
       "<Figure size 640x480 with 1 Axes>"
      ]
     },
     "metadata": {},
     "output_type": "display_data"
    }
   ],
   "source": [
    "sns.boxplot(df['engine'])"
   ]
  },
  {
   "cell_type": "markdown",
   "id": "08e104c0",
   "metadata": {},
   "source": [
    "# Detecting Outlier and Capping it\n"
   ]
  },
  {
   "cell_type": "code",
   "execution_count": 88,
   "id": "d39dcf69",
   "metadata": {},
   "outputs": [],
   "source": [
    "def detect_outliers(col):\n",
    "    # Finding the IQR\n",
    "    percentile25 = df[col].quantile(0.25)\n",
    "    percentile75 = df[col].quantile(0.75)\n",
    "    print('\\n ####', col , '####')\n",
    "    print(\"percentile25\",percentile25)\n",
    "    print(\"percentile75\",percentile75)\n",
    "    iqr = percentile75 - percentile25\n",
    "    upper_limit = percentile75 + 1.5 * iqr\n",
    "    lower_limit = percentile25 - 1.5 * iqr\n",
    "    print(\"Upper limit\",upper_limit)\n",
    "    print(\"Lower limit\",lower_limit)\n",
    "    df.loc[(df[col]>upper_limit), col]= upper_limit\n",
    "    df.loc[(df[col]<lower_limit), col]= lower_limit    \n",
    "    return df"
   ]
  },
  {
   "cell_type": "raw",
   "id": "10c91b35",
   "metadata": {},
   "source": [
    "Why are we capping it and why not trim it ?\n",
    "\n",
    "Trimming outliers may result in the removal of a large number of records from this dataset as we have already very less rows so this isn’t desirable in this case since columns other than the ones containing the outlier values may contain useful information.\n",
    "\n",
    "In this cases, you can use outlier capping to replace the outlier values with a maximum or minimum capped values. Be warned, this manipulates our data but we can replace outlier values by the upper and lower limit calculated using the IQR range."
   ]
  },
  {
   "cell_type": "code",
   "execution_count": 89,
   "id": "64ecce82",
   "metadata": {},
   "outputs": [
    {
     "name": "stdout",
     "output_type": "stream",
     "text": [
      "\n",
      " #### km_driven ####\n",
      "percentile25 30000.0\n",
      "percentile75 70000.0\n",
      "Upper limit 130000.0\n",
      "Lower limit -30000.0\n",
      "\n",
      " #### mileage ####\n",
      "percentile25 17.0\n",
      "percentile75 22.7\n",
      "Upper limit 31.25\n",
      "Lower limit 8.450000000000001\n",
      "\n",
      " #### engine ####\n",
      "percentile25 1197.0\n",
      "percentile75 1582.0\n",
      "Upper limit 2159.5\n",
      "Lower limit 619.5\n",
      "\n",
      " #### max_power ####\n",
      "percentile25 74.0\n",
      "percentile75 117.3\n",
      "Upper limit 182.25\n",
      "Lower limit 9.050000000000011\n",
      "\n",
      " #### selling_price ####\n",
      "percentile25 385000.0\n",
      "percentile75 825000.0\n",
      "Upper limit 1485000.0\n",
      "Lower limit -275000.0\n"
     ]
    }
   ],
   "source": [
    "for i in continuous_features:\n",
    "    detect_outliers(i)"
   ]
  },
  {
   "cell_type": "markdown",
   "id": "ebbbeae1",
   "metadata": {},
   "source": [
    "# Checking Skewnessr after outlier Caping"
   ]
  },
  {
   "cell_type": "code",
   "execution_count": 90,
   "id": "be757f9c",
   "metadata": {},
   "outputs": [
    {
     "data": {
      "text/plain": [
       "km_driven        0.617437\n",
       "mileage          0.067940\n",
       "engine           0.684096\n",
       "max_power        1.067229\n",
       "selling_price    0.968836\n",
       "dtype: float64"
      ]
     },
     "execution_count": 90,
     "metadata": {},
     "output_type": "execute_result"
    }
   ],
   "source": [
    "df[continuous_features].skew(axis=0,skipna=True)"
   ]
  },
  {
   "cell_type": "markdown",
   "id": "80f1da30",
   "metadata": {},
   "source": [
    "# Feature Transformation"
   ]
  },
  {
   "cell_type": "code",
   "execution_count": 91,
   "id": "2d7f0bef",
   "metadata": {},
   "outputs": [
    {
     "data": {
      "image/png": "[encoded data removed]",
      "text/plain": [
       "<Figure size 1200x800 with 5 Axes>"
      ]
     },
     "metadata": {},
     "output_type": "display_data"
    }
   ],
   "source": [
    "# distribution of data before scaling\n",
    "plt.figure(figsize=(12, 8))\n",
    "for i, col in enumerate(['km_driven', 'mileage', 'engine', 'max_power', 'selling_price']):\n",
    "    plt.subplot(3, 2, i+1)\n",
    "    sns.kdeplot(x=df[col], color='indianred')\n",
    "    plt.xlabel(col)\n",
    "    plt.tight_layout()"
   ]
  },
  {
   "cell_type": "raw",
   "id": "29a7ca62",
   "metadata": {},
   "source": [
    "Report \n",
    "After Capping outlier it is all column's distribution is normal so transformation is not required"
   ]
  },
  {
   "cell_type": "markdown",
   "id": "22eb9b38",
   "metadata": {},
   "source": [
    "# Split X and Y "
   ]
  },
  {
   "cell_type": "code",
   "execution_count": 92,
   "id": "54838a01",
   "metadata": {},
   "outputs": [],
   "source": [
    "from sklearn.model_selection import train_test_split\n",
    "X=df.drop(['selling_price'],axis=1)\n",
    "y=df[['selling_price']]"
   ]
  },
  {
   "cell_type": "code",
   "execution_count": 93,
   "id": "c2559ca9",
   "metadata": {},
   "outputs": [],
   "source": [
    "X.to_csv('features_selection.csv',index=False)\n",
    "y.to_csv('label_selection.csv',index=False)"
   ]
  },
  {
   "cell_type": "markdown",
   "id": "3cebad63",
   "metadata": {},
   "source": [
    "# -------------------------------------- split from here--------------------------------------"
   ]
  },
  {
   "cell_type": "markdown",
   "id": "f5f4a165",
   "metadata": {},
   "source": [
    "# Feature Encoding and Scaling"
   ]
  },
  {
   "cell_type": "code",
   "execution_count": 94,
   "id": "3d4d751d",
   "metadata": {},
   "outputs": [],
   "source": [
    "X = pd.read_csv('features_selection.csv')\n",
    "y = pd.read_csv('label_selection.csv')"
   ]
  },
  {
   "cell_type": "raw",
   "id": "b0ef524e",
   "metadata": {},
   "source": [
    "One Hot Encoding for Columns which had lesser unique values and not ordinal\n",
    "\n",
    "One hot encoding is a process by which categorical variables are converted into a form that could be provided to ML algorithms to do a better job in prediction."
   ]
  },
  {
   "cell_type": "raw",
   "id": "91c9ab9d",
   "metadata": {},
   "source": [
    "Binary Encoder\n",
    "\n",
    "To fight the curse of dimensionality, binary encoding might be a good alternative to one-hot encoding because it creates fewer columns when encoding categorical variables."
   ]
  },
  {
   "cell_type": "code",
   "execution_count": 95,
   "id": "b215db8b",
   "metadata": {},
   "outputs": [
    {
     "name": "stdout",
     "output_type": "stream",
     "text": [
      "Requirement already satisfied: category_encoders in c:\\users\\anubhav prasad\\anaconda3\\lib\\site-packages (2.6.3)\n",
      "Requirement already satisfied: numpy>=1.14.0 in c:\\users\\anubhav prasad\\anaconda3\\lib\\site-packages (from category_encoders) (1.26.4)\n",
      "Requirement already satisfied: scikit-learn>=0.20.0 in c:\\users\\anubhav prasad\\anaconda3\\lib\\site-packages (from category_encoders) (1.5.1)\n",
      "Requirement already satisfied: scipy>=1.0.0 in c:\\users\\anubhav prasad\\anaconda3\\lib\\site-packages (from category_encoders) (1.13.1)\n",
      "Requirement already satisfied: statsmodels>=0.9.0 in c:\\users\\anubhav prasad\\anaconda3\\lib\\site-packages (from category_encoders) (0.14.2)\n",
      "Requirement already satisfied: pandas>=1.0.5 in c:\\users\\anubhav prasad\\anaconda3\\lib\\site-packages (from category_encoders) (2.2.2)\n",
      "Requirement already satisfied: patsy>=0.5.1 in c:\\users\\anubhav prasad\\anaconda3\\lib\\site-packages (from category_encoders) (0.5.6)\n",
      "Requirement already satisfied: python-dateutil>=2.8.2 in c:\\users\\anubhav prasad\\anaconda3\\lib\\site-packages (from pandas>=1.0.5->category_encoders) (2.9.0.post0)\n",
      "Requirement already satisfied: pytz>=2020.1 in c:\\users\\anubhav prasad\\anaconda3\\lib\\site-packages (from pandas>=1.0.5->category_encoders) (2024.1)\n",
      "Requirement already satisfied: tzdata>=2022.7 in c:\\users\\anubhav prasad\\anaconda3\\lib\\site-packages (from pandas>=1.0.5->category_encoders) (2023.3)\n",
      "Requirement already satisfied: six in c:\\users\\anubhav prasad\\anaconda3\\lib\\site-packages (from patsy>=0.5.1->category_encoders) (1.16.0)\n",
      "Requirement already satisfied: joblib>=1.2.0 in c:\\users\\anubhav prasad\\anaconda3\\lib\\site-packages (from scikit-learn>=0.20.0->category_encoders) (1.4.2)\n",
      "Requirement already satisfied: threadpoolctl>=3.1.0 in c:\\users\\anubhav prasad\\anaconda3\\lib\\site-packages (from scikit-learn>=0.20.0->category_encoders) (3.5.0)\n",
      "Requirement already satisfied: packaging>=21.3 in c:\\users\\anubhav prasad\\anaconda3\\lib\\site-packages (from statsmodels>=0.9.0->category_encoders) (23.2)\n",
      "Note: you may need to restart the kernel to use updated packages.\n"
     ]
    }
   ],
   "source": [
    "pip install category_encoders"
   ]
  },
  {
   "cell_type": "code",
   "execution_count": 96,
   "id": "a86a16f0",
   "metadata": {},
   "outputs": [],
   "source": [
    "import category_encoders as ce"
   ]
  },
  {
   "cell_type": "code",
   "execution_count": 97,
   "id": "e8dfad13",
   "metadata": {},
   "outputs": [],
   "source": [
    "# Create Column Transformer with 3 types of transformers\n",
    "num_features = X.select_dtypes(exclude=\"object\").columns\n",
    "onehot_columns = ['seller_type','fuel_type','transmission_type']\n",
    "binary_columns = ['car_name']\n",
    "\n",
    "from sklearn.preprocessing import OneHotEncoder, StandardScaler\n",
    "from category_encoders.binary import BinaryEncoder\n",
    "from sklearn.compose import ColumnTransformer\n",
    "\n",
    "numeric_transformer = StandardScaler()\n",
    "oh_transformer = OneHotEncoder()\n",
    "binary_transformer = BinaryEncoder()\n",
    "\n",
    "preprocessor = ColumnTransformer(\n",
    "    [\n",
    "        (\"OneHotEncoder\", oh_transformer, onehot_columns),\n",
    "         (\"StandardScaler\", numeric_transformer, num_features),\n",
    "        (\"BinaryEncoder\", binary_transformer, binary_columns)\n",
    "        \n",
    "    ]\n",
    ")"
   ]
  },
  {
   "cell_type": "code",
   "execution_count": 98,
   "id": "0813c581",
   "metadata": {},
   "outputs": [],
   "source": [
    "X= preprocessor.fit_transform(X)"
   ]
  },
  {
   "cell_type": "code",
   "execution_count": 99,
   "id": "20aa4fa3",
   "metadata": {},
   "outputs": [],
   "source": [
    "#X=pd.DataFrame(X,index=X.columns)"
   ]
  },
  {
   "cell_type": "code",
   "execution_count": 100,
   "id": "560a1f41",
   "metadata": {},
   "outputs": [],
   "source": [
    "#X"
   ]
  },
  {
   "cell_type": "raw",
   "id": "76ce6b5e",
   "metadata": {},
   "source": [
    "Train Test Split\n",
    "The train-test split procedure is used to estimate the performance of machine learning algorithms when they are used to make predictions on data not used to train the model.\n",
    "\n",
    "It is a fast and easy procedure to perform, the results of which allow you to compare the performance of machine learning algorithms."
   ]
  },
  {
   "cell_type": "code",
   "execution_count": 101,
   "id": "f4601455",
   "metadata": {},
   "outputs": [],
   "source": [
    "#X"
   ]
  },
  {
   "cell_type": "code",
   "execution_count": 102,
   "id": "525d5ffc",
   "metadata": {},
   "outputs": [
    {
     "data": {
      "text/plain": [
       "((12328, 23), (3083, 23))"
      ]
     },
     "execution_count": 102,
     "metadata": {},
     "output_type": "execute_result"
    }
   ],
   "source": [
    "X_train,X_test,y_train,y_test=train_test_split(X,y,test_size=0.2,random_state=42)\n",
    "X_train.shape,X_test.shape"
   ]
  },
  {
   "cell_type": "code",
   "execution_count": 103,
   "id": "c1ace10f",
   "metadata": {},
   "outputs": [],
   "source": [
    "from sklearn.ensemble import RandomForestRegressor\n",
    "from sklearn.metrics import mean_absolute_error\n",
    "from sklearn.metrics import mean_squared_error\n",
    "from sklearn.metrics import mean_absolute_percentage_error"
   ]
  },
  {
   "cell_type": "code",
   "execution_count": 104,
   "id": "4e82c7a6",
   "metadata": {},
   "outputs": [],
   "source": [
    "#rf=RandomForestRegressor(n_estimators=100,max_depth=5)\n",
    "#rf.fit(X_train,y_train)"
   ]
  },
  {
   "cell_type": "code",
   "execution_count": 105,
   "id": "f0bce280",
   "metadata": {},
   "outputs": [],
   "source": [
    "#y_pred=rf.predict(X_test)"
   ]
  },
  {
   "cell_type": "code",
   "execution_count": 106,
   "id": "785190fd",
   "metadata": {},
   "outputs": [],
   "source": [
    "#mse=mean_squared_error(y_test,y_pred)\n",
    "##mape=mean_absolute_percentage_error(y_test,y_pred)\n",
    "#print(mape*100)\n",
    "#print(mse)"
   ]
  },
  {
   "cell_type": "code",
   "execution_count": null,
   "id": "b951f938",
   "metadata": {},
   "outputs": [],
   "source": []
  },
  {
   "cell_type": "code",
   "execution_count": 107,
   "id": "6de0d3ef",
   "metadata": {},
   "outputs": [],
   "source": [
    "#rr=RandomForestRegressor(n_estimators=100,max_depth=2)\n",
    "#rr.fit(X_train,y_train)\n",
    "##y_pred=rr.predict(X_test)\n",
    "#mse=mean_squared_error(y_test,y_pred)\n",
    "#mape=mean_absolute_percentage_error(y_test,y_pred)\n",
    "#print(mape*100)\n",
    "#print(mse)"
   ]
  },
  {
   "cell_type": "code",
   "execution_count": 108,
   "id": "9258ef16",
   "metadata": {},
   "outputs": [
    {
     "name": "stdout",
     "output_type": "stream",
     "text": [
      "Requirement already satisfied: xgboost in c:\\users\\anubhav prasad\\anaconda3\\lib\\site-packages (2.1.0)Note: you may need to restart the kernel to use updated packages.\n",
      "\n",
      "Requirement already satisfied: numpy in c:\\users\\anubhav prasad\\anaconda3\\lib\\site-packages (from xgboost) (1.26.4)\n",
      "Requirement already satisfied: scipy in c:\\users\\anubhav prasad\\anaconda3\\lib\\site-packages (from xgboost) (1.13.1)\n"
     ]
    }
   ],
   "source": [
    "pip install xgboost"
   ]
  },
  {
   "cell_type": "code",
   "execution_count": 109,
   "id": "ab74b537",
   "metadata": {},
   "outputs": [],
   "source": [
    "from xgboost import XGBRegressor"
   ]
  },
  {
   "cell_type": "code",
   "execution_count": 110,
   "id": "bd702a17",
   "metadata": {},
   "outputs": [],
   "source": [
    "#xg=XGBRegressor(max_depth=3,n_estimator=100)\n",
    "#xg.fit(X_train,y_train)\n",
    "#y_train_pred=xg.predict(X_train)\n",
    "##mape=mean_absolute_percentage_error(y_train,y_train_pred)\n",
    "#print(mape*100)"
   ]
  },
  {
   "cell_type": "code",
   "execution_count": null,
   "id": "09fcc5c0",
   "metadata": {},
   "outputs": [],
   "source": []
  },
  {
   "cell_type": "code",
   "execution_count": null,
   "id": "a4b3abba",
   "metadata": {},
   "outputs": [],
   "source": []
  },
  {
   "cell_type": "code",
   "execution_count": null,
   "id": "e3b10776",
   "metadata": {},
   "outputs": [],
   "source": []
  },
  {
   "cell_type": "code",
   "execution_count": null,
   "id": "507883b4",
   "metadata": {},
   "outputs": [],
   "source": []
  },
  {
   "cell_type": "code",
   "execution_count": 111,
   "id": "a526164f",
   "metadata": {},
   "outputs": [],
   "source": [
    "#X_train.to_csv('features_selection.csv',index=False)\n",
    "#y_train.to_csv('label_selection.csv',index=False)\n"
   ]
  },
  {
   "cell_type": "markdown",
   "id": "7a5bd1c4",
   "metadata": {},
   "source": [
    "# Model Selection"
   ]
  },
  {
   "cell_type": "code",
   "execution_count": 112,
   "id": "cb269c6e",
   "metadata": {},
   "outputs": [],
   "source": [
    "#pip install catboost\n"
   ]
  },
  {
   "cell_type": "code",
   "execution_count": 113,
   "id": "5508686a",
   "metadata": {},
   "outputs": [
    {
     "name": "stdout",
     "output_type": "stream",
     "text": [
      "Requirement already satisfied: xgboost in c:\\users\\anubhav prasad\\anaconda3\\lib\\site-packages (2.1.0)\n",
      "Requirement already satisfied: numpy in c:\\users\\anubhav prasad\\anaconda3\\lib\\site-packages (from xgboost) (1.26.4)\n",
      "Requirement already satisfied: scipy in c:\\users\\anubhav prasad\\anaconda3\\lib\\site-packages (from xgboost) (1.13.1)\n",
      "Note: you may need to restart the kernel to use updated packages.\n"
     ]
    }
   ],
   "source": [
    "pip install xgboost"
   ]
  },
  {
   "cell_type": "code",
   "execution_count": 115,
   "id": "fff8d321",
   "metadata": {},
   "outputs": [],
   "source": [
    "from sklearn.metrics import mean_squared_error, r2_score\n",
    "from sklearn.neighbors import KNeighborsRegressor\n",
    "from sklearn.tree import DecisionTreeRegressor\n",
    "from sklearn.ensemble import RandomForestRegressor,AdaBoostRegressor\n",
    "from sklearn.svm import SVR\n",
    "from sklearn.linear_model import LinearRegression, Ridge,Lasso\n",
    "from sklearn.metrics import r2_score, mean_absolute_error, mean_squared_error\n",
    "from sklearn.model_selection import RandomizedSearchCV\n",
    "#from catboost import CatBoostRegressor\n",
    "from xgboost import XGBRegressor\n",
    "from sklearn.ensemble import GradientBoostingRegressor"
   ]
  },
  {
   "cell_type": "markdown",
   "id": "08d513d6",
   "metadata": {},
   "source": [
    "# Create a Function to Evaluate Model"
   ]
  },
  {
   "cell_type": "code",
   "execution_count": 116,
   "id": "d1092500",
   "metadata": {},
   "outputs": [],
   "source": [
    "def evaluate_model(true,predicted):\n",
    "    mae=mean_absolute_error(true,predicted)\n",
    "    mse=mean_squared_error(true,predicted)\n",
    "    rmse=np.sqrt(mean_squared_error(true,predicted))\n",
    "    r2_square=r2_score(true,predicted)\n",
    "    return mae,rmse,r2_square"
   ]
  },
  {
   "cell_type": "code",
   "execution_count": 118,
   "id": "b6eb2b6c",
   "metadata": {},
   "outputs": [
    {
     "name": "stdout",
     "output_type": "stream",
     "text": [
      "Linear Regression\n",
      "Model performance for Training set\n",
      "- Root Mean Squared Error: 148767.4017\n",
      "- Mean Absolute Error: 112822.8151\n",
      "- R2 Score: 0.8380\n",
      "----------------------------------\n",
      "Model performance for Test set\n",
      "- Root Mean Squared Error: 155478.8345\n",
      "- Mean Absolute Error: 118417.1508\n",
      "- R2 Score: 0.8343\n",
      "===================================\n",
      "\n",
      "\n",
      "Lasso\n",
      "Model performance for Training set\n",
      "- Root Mean Squared Error: 148767.4172\n",
      "- Mean Absolute Error: 112822.8031\n",
      "- R2 Score: 0.8380\n",
      "----------------------------------\n",
      "Model performance for Test set\n",
      "- Root Mean Squared Error: 155479.5196\n",
      "- Mean Absolute Error: 118418.6806\n",
      "- R2 Score: 0.8343\n",
      "===================================\n",
      "\n",
      "\n",
      "Ridge\n",
      "Model performance for Training set\n",
      "- Root Mean Squared Error: 148770.8205\n",
      "- Mean Absolute Error: 112835.0850\n",
      "- R2 Score: 0.8380\n",
      "----------------------------------\n",
      "Model performance for Test set\n",
      "- Root Mean Squared Error: 155485.9482\n",
      "- Mean Absolute Error: 118436.6096\n",
      "- R2 Score: 0.8343\n",
      "===================================\n",
      "\n",
      "\n",
      "K-Neighbors Regressor\n",
      "Model performance for Training set\n",
      "- Root Mean Squared Error: 81848.1739\n",
      "- Mean Absolute Error: 54720.1168\n",
      "- R2 Score: 0.9510\n",
      "----------------------------------\n",
      "Model performance for Test set\n",
      "- Root Mean Squared Error: 102849.8257\n",
      "- Mean Absolute Error: 68707.0791\n",
      "- R2 Score: 0.9275\n",
      "===================================\n",
      "\n",
      "\n",
      "Decision Tree\n",
      "Model performance for Training set\n",
      "- Root Mean Squared Error: 19892.7304\n",
      "- Mean Absolute Error: 5386.6533\n",
      "- R2 Score: 0.9971\n",
      "----------------------------------\n",
      "Model performance for Test set\n",
      "- Root Mean Squared Error: 124813.4893\n",
      "- Mean Absolute Error: 79673.1766\n",
      "- R2 Score: 0.8932\n",
      "===================================\n",
      "\n",
      "\n",
      "Random Forest Regressor\n",
      "Model performance for Training set\n",
      "- Root Mean Squared Error: 39332.2959\n",
      "- Mean Absolute Error: 26222.2062\n",
      "- R2 Score: 0.9887\n",
      "----------------------------------\n",
      "Model performance for Test set\n",
      "- Root Mean Squared Error: 99231.3978\n",
      "- Mean Absolute Error: 65846.2101\n",
      "- R2 Score: 0.9325\n",
      "===================================\n",
      "\n",
      "\n",
      "XGBRegressor\n",
      "Model performance for Training set\n",
      "- Root Mean Squared Error: 63212.0617\n",
      "- Mean Absolute Error: 46145.6438\n",
      "- R2 Score: 0.9708\n",
      "----------------------------------\n",
      "Model performance for Test set\n",
      "- Root Mean Squared Error: 93184.7299\n",
      "- Mean Absolute Error: 63641.7100\n",
      "- R2 Score: 0.9405\n",
      "===================================\n",
      "\n",
      "\n",
      "AdaBoost Regressor\n",
      "Model performance for Training set\n",
      "- Root Mean Squared Error: 165536.8307\n",
      "- Mean Absolute Error: 136557.7715\n",
      "- R2 Score: 0.7994\n",
      "----------------------------------\n",
      "Model performance for Test set\n",
      "- Root Mean Squared Error: 173706.0003\n",
      "- Mean Absolute Error: 142710.3818\n",
      "- R2 Score: 0.7932\n",
      "===================================\n",
      "\n",
      "\n",
      "Gradient Boost Regressor\n",
      "Model performance for Training set\n",
      "- Root Mean Squared Error: 101384.8468\n",
      "- Mean Absolute Error: 72737.1273\n",
      "- R2 Score: 0.9248\n",
      "----------------------------------\n",
      "Model performance for Test set\n",
      "- Root Mean Squared Error: 108988.3239\n",
      "- Mean Absolute Error: 76913.3690\n",
      "- R2 Score: 0.9186\n",
      "===================================\n",
      "\n",
      "\n"
     ]
    }
   ],
   "source": [
    "models = {\n",
    "    \"Linear Regression\": LinearRegression(),\n",
    "    \"Lasso\": Lasso(),\n",
    "    \"Ridge\": Ridge(),\n",
    "    \"K-Neighbors Regressor\": KNeighborsRegressor(),\n",
    "    \"Decision Tree\": DecisionTreeRegressor(),\n",
    "    \"Random Forest Regressor\": RandomForestRegressor(),\n",
    "    \"XGBRegressor\": XGBRegressor(), \n",
    "    #\"CatBoosting Regressor\": CatBoostRegressor(verbose=False),\n",
    "    \"AdaBoost Regressor\": AdaBoostRegressor(),\n",
    "    'Gradient Boost Regressor': GradientBoostingRegressor()\n",
    "}\n",
    "model_list = []\n",
    "r2_list =[]\n",
    "\n",
    "for i in range(len(list(models))):\n",
    "    model = list(models.values())[i]\n",
    "    model.fit(X_train, y_train) # Train model\n",
    "    \n",
    "    \n",
    "#     pickle the file to model.pkl file... give variable model into it\n",
    "\n",
    "\n",
    "\n",
    "#  load pickle file and assign it variable model\n",
    "\n",
    "    # Make predictions\n",
    "    y_train_pred = model.predict(X_train)\n",
    "    y_test_pred = model.predict(X_test)\n",
    "    \n",
    "    # Evaluate Train and Test dataset\n",
    "    model_train_mae , model_train_rmse, model_train_r2 = evaluate_model(y_train, y_train_pred)\n",
    "\n",
    "    model_test_mae ,model_test_rmse, model_test_r2 = evaluate_model(y_test, y_test_pred)\n",
    "\n",
    "    \n",
    "    print(list(models.keys())[i])\n",
    "    model_list.append(list(models.keys())[i])\n",
    "    \n",
    "    print('Model performance for Training set')\n",
    "    print(\"- Root Mean Squared Error: {:.4f}\".format(model_train_rmse))\n",
    "    print(\"- Mean Absolute Error: {:.4f}\".format(model_train_mae))\n",
    "    print(\"- R2 Score: {:.4f}\".format(model_train_r2))\n",
    "\n",
    "    print('----------------------------------')\n",
    "    \n",
    "    print('Model performance for Test set')\n",
    "    print(\"- Root Mean Squared Error: {:.4f}\".format(model_test_rmse))\n",
    "    print(\"- Mean Absolute Error: {:.4f}\".format(model_test_mae))\n",
    "    print(\"- R2 Score: {:.4f}\".format(model_test_r2))\n",
    "    r2_list.append(model_test_r2)\n",
    "    \n",
    "    print('='*35)\n",
    "    print('\\n')"
   ]
  },
  {
   "cell_type": "code",
   "execution_count": 119,
   "id": "bbad7898",
   "metadata": {},
   "outputs": [
    {
     "data": {
      "text/html": [
       "<div>\n",
       "<style scoped>\n",
       "    .dataframe tbody tr th:only-of-type {\n",
       "        vertical-align: middle;\n",
       "    }\n",
       "\n",
       "    .dataframe tbody tr th {\n",
       "        vertical-align: top;\n",
       "    }\n",
       "\n",
       "    .dataframe thead th {\n",
       "        text-align: right;\n",
       "    }\n",
       "</style>\n",
       "<table border=\"1\" class=\"dataframe\">\n",
       "  <thead>\n",
       "    <tr style=\"text-align: right;\">\n",
       "      <th></th>\n",
       "      <th>Model Name</th>\n",
       "      <th>R2_Score</th>\n",
       "    </tr>\n",
       "  </thead>\n",
       "  <tbody>\n",
       "    <tr>\n",
       "      <th>7</th>\n",
       "      <td>AdaBoost Regressor</td>\n",
       "      <td>0.793214</td>\n",
       "    </tr>\n",
       "    <tr>\n",
       "      <th>2</th>\n",
       "      <td>Ridge</td>\n",
       "      <td>0.834318</td>\n",
       "    </tr>\n",
       "    <tr>\n",
       "      <th>1</th>\n",
       "      <td>Lasso</td>\n",
       "      <td>0.834332</td>\n",
       "    </tr>\n",
       "    <tr>\n",
       "      <th>0</th>\n",
       "      <td>Linear Regression</td>\n",
       "      <td>0.834333</td>\n",
       "    </tr>\n",
       "    <tr>\n",
       "      <th>4</th>\n",
       "      <td>Decision Tree</td>\n",
       "      <td>0.893238</td>\n",
       "    </tr>\n",
       "    <tr>\n",
       "      <th>8</th>\n",
       "      <td>Gradient Boost Regressor</td>\n",
       "      <td>0.918595</td>\n",
       "    </tr>\n",
       "    <tr>\n",
       "      <th>3</th>\n",
       "      <td>K-Neighbors Regressor</td>\n",
       "      <td>0.927506</td>\n",
       "    </tr>\n",
       "    <tr>\n",
       "      <th>5</th>\n",
       "      <td>Random Forest Regressor</td>\n",
       "      <td>0.932518</td>\n",
       "    </tr>\n",
       "    <tr>\n",
       "      <th>6</th>\n",
       "      <td>XGBRegressor</td>\n",
       "      <td>0.940491</td>\n",
       "    </tr>\n",
       "  </tbody>\n",
       "</table>\n",
       "</div>"
      ],
      "text/plain": [
       "                 Model Name  R2_Score\n",
       "7        AdaBoost Regressor  0.793214\n",
       "2                     Ridge  0.834318\n",
       "1                     Lasso  0.834332\n",
       "0         Linear Regression  0.834333\n",
       "4             Decision Tree  0.893238\n",
       "8  Gradient Boost Regressor  0.918595\n",
       "3     K-Neighbors Regressor  0.927506\n",
       "5   Random Forest Regressor  0.932518\n",
       "6              XGBRegressor  0.940491"
      ]
     },
     "execution_count": 119,
     "metadata": {},
     "output_type": "execute_result"
    }
   ],
   "source": [
    "pd.DataFrame(list(zip(model_list,r2_list)),columns=['Model Name','R2_Score']).sort_values(by=['R2_Score'],ascending=True)"
   ]
  },
  {
   "cell_type": "markdown",
   "id": "9ef6b535",
   "metadata": {},
   "source": [
    "# Here we can use Random Forest , XGBoost Regressor, CatBoost Regressor and K-Neighbours Regressor for Hyper Parameter Tuning"
   ]
  },
  {
   "cell_type": "code",
   "execution_count": 120,
   "id": "0ca800aa",
   "metadata": {},
   "outputs": [],
   "source": [
    "#Initialize few parameter for Hyperparamter tuning\n",
    "knn_params = {\"n_neighbors\": [2, 3, 10, 20, 40, 50]}\n",
    "\n",
    "rf_params = {\"max_depth\": [5, 8, 15, None, 10],\n",
    "             \"max_features\": [5, 7, \"auto\", 8],\n",
    "             \"min_samples_split\": [2, 8, 15, 20],\n",
    "             \"n_estimators\": [100, 200, 500, 1000]}\n",
    "\n",
    "xgboost_params = {\"learning_rate\": [0.1, 0.01],\n",
    "                  \"max_depth\": [5, 8, 12, 20, 30],\n",
    "                  \"n_estimators\": [100, 200, 300],\n",
    "                  \"colsample_bytree\": [0.5, 0.8, 1, 0.3, 0.4]}\n",
    "\n",
    "gb_params = {\"learning_rate\": [0.1, 0.01, 0.06, 0.05],\n",
    "              \"max_depth\": [6, 8, 12, 20, 30]}"
   ]
  },
  {
   "cell_type": "code",
   "execution_count": 121,
   "id": "352b283d",
   "metadata": {},
   "outputs": [],
   "source": [
    "# Models list for Hyperparameter tuning\n",
    "randomcv_models = [('KNN', KNeighborsRegressor(), knn_params),\n",
    "                   (\"RF\", RandomForestRegressor(), rf_params),\n",
    "                   ('XGBoost', XGBRegressor(), xgboost_params),\n",
    "                   ('Gradient Boost', GradientBoostingRegressor(verbose=False), gb_params)\n",
    "                   ]"
   ]
  },
  {
   "cell_type": "code",
   "execution_count": 123,
   "id": "be9dbc2a",
   "metadata": {},
   "outputs": [
    {
     "name": "stdout",
     "output_type": "stream",
     "text": [
      "Fitting 3 folds for each of 5 candidates, totalling 15 fits\n",
      "Fitting 3 folds for each of 5 candidates, totalling 15 fits\n",
      "Fitting 3 folds for each of 5 candidates, totalling 15 fits\n",
      "Fitting 3 folds for each of 5 candidates, totalling 15 fits\n",
      "---------------- Best Params for KNN -------------------\n",
      "{'n_neighbors': 10}\n",
      "---------------- Best Params for RF -------------------\n",
      "{'n_estimators': 1000, 'min_samples_split': 15, 'max_features': 8, 'max_depth': 15}\n",
      "---------------- Best Params for XGBoost -------------------\n",
      "{'n_estimators': 300, 'max_depth': 8, 'learning_rate': 0.1, 'colsample_bytree': 0.5}\n",
      "---------------- Best Params for Gradient Boost -------------------\n",
      "{'max_depth': 6, 'learning_rate': 0.05}\n"
     ]
    }
   ],
   "source": [
    "\n",
    "from sklearn.model_selection import RandomizedSearchCV\n",
    "\n",
    "model_param = {}\n",
    "for name, model, params in randomcv_models:\n",
    "    random = RandomizedSearchCV(estimator=model,\n",
    "                                   param_distributions=params,\n",
    "                                   n_iter=5,\n",
    "                                   cv=3,\n",
    "                                   verbose=2,\n",
    "                                   n_jobs=-1)\n",
    "    random.fit(X_train, y_train)\n",
    "    model_param[name] = random.best_params_\n",
    "\n",
    "for model_name in model_param:\n",
    "    print(f\"---------------- Best Params for {model_name} -------------------\")\n",
    "    print(model_param[model_name])"
   ]
  },
  {
   "cell_type": "code",
   "execution_count": 125,
   "id": "383113b2",
   "metadata": {},
   "outputs": [
    {
     "name": "stdout",
     "output_type": "stream",
     "text": [
      "Random Forest Regressor\n",
      "Model performance for Training set\n",
      "- Root Mean Squared Error: 74314.1650\n",
      "- Mean Absolute Error: 52644.0028\n",
      "- R2 Score: 0.9596\n",
      "----------------------------------\n",
      "Model performance for Test set\n",
      "- Root Mean Squared Error: 94446.0294\n",
      "- Mean Absolute Error: 64798.5432\n",
      "- R2 Score: 0.9389\n",
      "===================================\n",
      "\n",
      "\n",
      "K-Neighbors Regressor\n",
      "Model performance for Training set\n",
      "- Root Mean Squared Error: 90415.8584\n",
      "- Mean Absolute Error: 61136.6402\n",
      "- R2 Score: 0.9402\n",
      "----------------------------------\n",
      "Model performance for Test set\n",
      "- Root Mean Squared Error: 103777.9388\n",
      "- Mean Absolute Error: 69776.1677\n",
      "- R2 Score: 0.9262\n",
      "===================================\n",
      "\n",
      "\n",
      "XGBRegressor\n",
      "Model performance for Training set\n",
      "- Root Mean Squared Error: 53001.4095\n",
      "- Mean Absolute Error: 38259.8220\n",
      "- R2 Score: 0.9794\n",
      "----------------------------------\n",
      "Model performance for Test set\n",
      "- Root Mean Squared Error: 92741.2130\n",
      "- Mean Absolute Error: 62990.6384\n",
      "- R2 Score: 0.9411\n",
      "===================================\n",
      "\n",
      "\n",
      "Gradient Boosting \n",
      "Model performance for Training set\n",
      "- Root Mean Squared Error: 81688.7560\n",
      "- Mean Absolute Error: 59380.4778\n",
      "- R2 Score: 0.9512\n",
      "----------------------------------\n",
      "Model performance for Test set\n",
      "- Root Mean Squared Error: 96700.4854\n",
      "- Mean Absolute Error: 67042.6627\n",
      "- R2 Score: 0.9359\n",
      "===================================\n",
      "\n",
      "\n"
     ]
    }
   ],
   "source": [
    "models = {\n",
    "    \"Random Forest Regressor\": RandomForestRegressor(**model_param['RF'], n_jobs=-1),\n",
    "     \"K-Neighbors Regressor\": KNeighborsRegressor(**model_param['KNN'], n_jobs=-1),\n",
    "    \"XGBRegressor\": XGBRegressor(**model_param['XGBoost'], n_jobs=-1), \n",
    "     \"Gradient Boosting \": GradientBoostingRegressor(**model_param['Gradient Boost'],verbose=False)\n",
    "}\n",
    "\n",
    "model_list = []\n",
    "r2_list =[]\n",
    "\n",
    "for i in range(len(list(models))):\n",
    "    model = list(models.values())[i]\n",
    "    model.fit(X_train, y_train) # Train model\n",
    "\n",
    "    # Make predictions\n",
    "    y_train_pred = model.predict(X_train)\n",
    "    y_test_pred = model.predict(X_test)\n",
    "\n",
    "    model_train_mae , model_train_rmse, model_train_r2 = evaluate_model(y_train, y_train_pred)\n",
    "\n",
    "    model_test_mae , model_test_rmse, model_test_r2 = evaluate_model(y_test, y_test_pred)\n",
    "    \n",
    "    print(list(models.keys())[i])\n",
    "    model_list.append(list(models.keys())[i])\n",
    "    \n",
    "    print('Model performance for Training set')\n",
    "    print(\"- Root Mean Squared Error: {:.4f}\".format(model_train_rmse))\n",
    "    print(\"- Mean Absolute Error: {:.4f}\".format(model_train_mae))\n",
    "    print(\"- R2 Score: {:.4f}\".format(model_train_r2))\n",
    "\n",
    "    print('----------------------------------')\n",
    "    \n",
    "    print('Model performance for Test set')\n",
    "    print(\"- Root Mean Squared Error: {:.4f}\".format(model_test_rmse))\n",
    "    print(\"- Mean Absolute Error: {:.4f}\".format(model_test_mae))\n",
    "    print(\"- R2 Score: {:.4f}\".format(model_test_r2))\n",
    "    r2_list.append(model_test_r2)\n",
    "    \n",
    "    print('='*35)\n",
    "    print('\\n')"
   ]
  },
  {
   "cell_type": "code",
   "execution_count": 126,
   "id": "434671a5",
   "metadata": {},
   "outputs": [
    {
     "data": {
      "text/html": [
       "<div>\n",
       "<style scoped>\n",
       "    .dataframe tbody tr th:only-of-type {\n",
       "        vertical-align: middle;\n",
       "    }\n",
       "\n",
       "    .dataframe tbody tr th {\n",
       "        vertical-align: top;\n",
       "    }\n",
       "\n",
       "    .dataframe thead th {\n",
       "        text-align: right;\n",
       "    }\n",
       "</style>\n",
       "<table border=\"1\" class=\"dataframe\">\n",
       "  <thead>\n",
       "    <tr style=\"text-align: right;\">\n",
       "      <th></th>\n",
       "      <th>Model Name</th>\n",
       "      <th>R2_Score</th>\n",
       "    </tr>\n",
       "  </thead>\n",
       "  <tbody>\n",
       "    <tr>\n",
       "      <th>2</th>\n",
       "      <td>XGBRegressor</td>\n",
       "      <td>0.941056</td>\n",
       "    </tr>\n",
       "    <tr>\n",
       "      <th>0</th>\n",
       "      <td>Random Forest Regressor</td>\n",
       "      <td>0.938869</td>\n",
       "    </tr>\n",
       "    <tr>\n",
       "      <th>3</th>\n",
       "      <td>Gradient Boosting</td>\n",
       "      <td>0.935916</td>\n",
       "    </tr>\n",
       "    <tr>\n",
       "      <th>1</th>\n",
       "      <td>K-Neighbors Regressor</td>\n",
       "      <td>0.926192</td>\n",
       "    </tr>\n",
       "  </tbody>\n",
       "</table>\n",
       "</div>"
      ],
      "text/plain": [
       "                Model Name  R2_Score\n",
       "2             XGBRegressor  0.941056\n",
       "0  Random Forest Regressor  0.938869\n",
       "3       Gradient Boosting   0.935916\n",
       "1    K-Neighbors Regressor  0.926192"
      ]
     },
     "execution_count": 126,
     "metadata": {},
     "output_type": "execute_result"
    }
   ],
   "source": [
    "pd.DataFrame(list(zip(model_list, r2_list*100)), columns=['Model Name', 'R2_Score']).sort_values(by=[\"R2_Score\"],ascending=False)"
   ]
  },
  {
   "cell_type": "markdown",
   "id": "094c8a70",
   "metadata": {},
   "source": [
    "# Best Model is XGBoost Regressor with R2_Score of 94.10%"
   ]
  },
  {
   "cell_type": "code",
   "execution_count": null,
   "id": "cc25e85f",
   "metadata": {},
   "outputs": [],
   "source": []
  }
 ],
 "metadata": {
  "kernelspec": {
   "display_name": "Python 3 (ipykernel)",
   "language": "python",
   "name": "python3"
  },
  "language_info": {
   "codemirror_mode": {
    "name": "ipython",
    "version": 3
   },
   "file_extension": ".py",
   "mimetype": "text/x-python",
   "name": "python",
   "nbconvert_exporter": "python",
   "pygments_lexer": "ipython3",
   "version": "3.12.4"
  }
 },
 "nbformat": 4,
 "nbformat_minor": 5
}
